{
 "cells": [
  {
   "cell_type": "markdown",
   "metadata": {},
   "source": [
    "# Logistic Regression"
   ]
  },
  {
   "cell_type": "markdown",
   "metadata": {},
   "source": [
    "This exercise will solve two exercises involving Logistic Regression. \n",
    "\n",
    "In the first one, we will train a model to predict if a student gets admitted into a university based on the results of two exams. On the second one, we will predict wheter microchips from a fabrication plant passes quality assurance based on two test results. In this case, we will use a regularized logistic regression."
   ]
  },
  {
   "cell_type": "markdown",
   "metadata": {},
   "source": [
    "# Non Regularized Logistic Regression"
   ]
  },
  {
   "cell_type": "markdown",
   "metadata": {},
   "source": [
    "The data contain three columns: the first and the second will create the X matrix and the third the Y matrix."
   ]
  },
  {
   "cell_type": "code",
   "execution_count": 2,
   "metadata": {},
   "outputs": [
    {
     "data": {
      "text/html": [
       "<div>\n",
       "<style scoped>\n",
       "    .dataframe tbody tr th:only-of-type {\n",
       "        vertical-align: middle;\n",
       "    }\n",
       "\n",
       "    .dataframe tbody tr th {\n",
       "        vertical-align: top;\n",
       "    }\n",
       "\n",
       "    .dataframe thead th {\n",
       "        text-align: right;\n",
       "    }\n",
       "</style>\n",
       "<table border=\"1\" class=\"dataframe\">\n",
       "  <thead>\n",
       "    <tr style=\"text-align: right;\">\n",
       "      <th></th>\n",
       "      <th>Exam_1</th>\n",
       "      <th>Exam_2</th>\n",
       "      <th>admission</th>\n",
       "    </tr>\n",
       "  </thead>\n",
       "  <tbody>\n",
       "    <tr>\n",
       "      <th>0</th>\n",
       "      <td>34.623660</td>\n",
       "      <td>78.024693</td>\n",
       "      <td>0</td>\n",
       "    </tr>\n",
       "    <tr>\n",
       "      <th>1</th>\n",
       "      <td>30.286711</td>\n",
       "      <td>43.894998</td>\n",
       "      <td>0</td>\n",
       "    </tr>\n",
       "    <tr>\n",
       "      <th>2</th>\n",
       "      <td>35.847409</td>\n",
       "      <td>72.902198</td>\n",
       "      <td>0</td>\n",
       "    </tr>\n",
       "    <tr>\n",
       "      <th>3</th>\n",
       "      <td>60.182599</td>\n",
       "      <td>86.308552</td>\n",
       "      <td>1</td>\n",
       "    </tr>\n",
       "    <tr>\n",
       "      <th>4</th>\n",
       "      <td>79.032736</td>\n",
       "      <td>75.344376</td>\n",
       "      <td>1</td>\n",
       "    </tr>\n",
       "  </tbody>\n",
       "</table>\n",
       "</div>"
      ],
      "text/plain": [
       "      Exam_1     Exam_2  admission\n",
       "0  34.623660  78.024693          0\n",
       "1  30.286711  43.894998          0\n",
       "2  35.847409  72.902198          0\n",
       "3  60.182599  86.308552          1\n",
       "4  79.032736  75.344376          1"
      ]
     },
     "execution_count": 2,
     "metadata": {},
     "output_type": "execute_result"
    }
   ],
   "source": [
    "import numpy as np\n",
    "import pandas as pd\n",
    "import matplotlib.pyplot as plt\n",
    "%matplotlib inline\n",
    "\n",
    "data = pd.read_csv('ex2data1.txt', sep=\",\", names=['Exam_1', 'Exam_2', 'admission'])\n",
    "data.head()"
   ]
  },
  {
   "cell_type": "code",
   "execution_count": 3,
   "metadata": {},
   "outputs": [
    {
     "data": {
      "image/png": "[encoded data removed]",
      "text/plain": [
       "<Figure size 720x432 with 1 Axes>"
      ]
     },
     "metadata": {},
     "output_type": "display_data"
    }
   ],
   "source": [
    "def plotData(pos, neg):\n",
    "    plt.figure(figsize=(10,6))\n",
    "    plt.plot(pos['Exam_1'],pos['Exam_2'],'k+',label='Admitted')\n",
    "    plt.plot(neg['Exam_1'],neg['Exam_2'],'yo',label='Not admitted')\n",
    "    plt.xlabel('Exam 1 score')\n",
    "    plt.ylabel('Exam 2 score')\n",
    "    plt.legend()\n",
    "    plt.grid(True)\n",
    "\n",
    "pos = data[data['admission'] == 1][['Exam_1', 'Exam_2']]\n",
    "neg = data[data['admission'] == 0][['Exam_1', 'Exam_2']]\n",
    "\n",
    "plotData(pos, neg)"
   ]
  },
  {
   "cell_type": "markdown",
   "metadata": {},
   "source": [
    "In using sklearn, the default is passing a C parameter (that is 1/lambda, the parameter of regularization). To remove regularization, we simply define C as a big value (when lambda is 0, C tends to infinite)"
   ]
  },
  {
   "cell_type": "code",
   "execution_count": 4,
   "metadata": {},
   "outputs": [],
   "source": [
    "from sklearn.linear_model import LogisticRegression\n",
    "\n",
    "lr = LogisticRegression(C=1e49)"
   ]
  },
  {
   "cell_type": "code",
   "execution_count": 5,
   "metadata": {},
   "outputs": [
    {
     "data": {
      "text/plain": [
       "LogisticRegression(C=1e+49, class_weight=None, dual=False, fit_intercept=True,\n",
       "          intercept_scaling=1, max_iter=100, multi_class='ovr', n_jobs=1,\n",
       "          penalty='l2', random_state=None, solver='liblinear', tol=0.0001,\n",
       "          verbose=0, warm_start=False)"
      ]
     },
     "execution_count": 5,
     "metadata": {},
     "output_type": "execute_result"
    }
   ],
   "source": [
    "x = np.array(data[['Exam_1', 'Exam_2']])\n",
    "y = np.array(data[['admission']])\n",
    "y = np.squeeze(y)\n",
    "\n",
    "lr.fit(x, y)"
   ]
  },
  {
   "cell_type": "code",
   "execution_count": 8,
   "metadata": {},
   "outputs": [
    {
     "name": "stdout",
     "output_type": "stream",
     "text": [
      "Theta 0 is -24.956046473822713, Theta 1 is 0.2045900794398586 and Theta 2 is 0.19981008739574788\n",
      "The prediction accuracy is 89.0 %\n"
     ]
    }
   ],
   "source": [
    "theta0 = lr.intercept_[0]\n",
    "theta1 = lr.coef_[:,0][0]\n",
    "theta2 = lr.coef_[:,1][0]\n",
    "\n",
    "print('Theta 0 is {}, Theta 1 is {} and Theta 2 is {}'.format(theta0, theta1, theta2))\n",
    "print('The prediction accuracy is {} %'.format(lr.score(x,y) * 100))\n"
   ]
  },
  {
   "cell_type": "code",
   "execution_count": 13,
   "metadata": {},
   "outputs": [
    {
     "name": "stdout",
     "output_type": "stream",
     "text": [
      "For a student with scores 45 and 85, we predict an admission probability of 77.46 %\n"
     ]
    }
   ],
   "source": [
    "student_1 = np.array([45, 85]).reshape(1,2)\n",
    "prediction1 = round(lr.predict_proba(student_1)[0][1] * 100, 2)\n",
    "print('For a student with scores 45 and 85, we predict an admission probability of {} %'.format(prediction1))"
   ]
  },
  {
   "cell_type": "code",
   "execution_count": 16,
   "metadata": {},
   "outputs": [
    {
     "data": {
      "image/png": "[encoded data removed]",
      "text/plain": [
       "<Figure size 720x432 with 1 Axes>"
      ]
     },
     "metadata": {},
     "output_type": "display_data"
    }
   ],
   "source": [
    "x1 = np.linspace(30,100, 1)\n",
    "x2 = np.linspace(30,100, 1)\n",
    "yy = []\n",
    "\n",
    "boundary_xs = np.array([np.min(x[:,1]), np.max(x[:,1])])\n",
    "boundary_ys = (-1./theta2)*(theta0 + theta1*boundary_xs)\n",
    "plotData(pos, neg)\n",
    "plt.plot(boundary_xs,boundary_ys,'b-',label='Decision Boundary')\n",
    "plt.legend()\n",
    "plt.show()"
   ]
  },
  {
   "cell_type": "markdown",
   "metadata": {},
   "source": [
    "# Regularized Logistic Regression"
   ]
  },
  {
   "cell_type": "markdown",
   "metadata": {},
   "source": [
    "The data contain three columns: the first and the second will create the X matrix and the third the Y matrix."
   ]
  },
  {
   "cell_type": "code",
   "execution_count": 17,
   "metadata": {},
   "outputs": [
    {
     "data": {
      "text/html": [
       "<div>\n",
       "<style scoped>\n",
       "    .dataframe tbody tr th:only-of-type {\n",
       "        vertical-align: middle;\n",
       "    }\n",
       "\n",
       "    .dataframe tbody tr th {\n",
       "        vertical-align: top;\n",
       "    }\n",
       "\n",
       "    .dataframe thead th {\n",
       "        text-align: right;\n",
       "    }\n",
       "</style>\n",
       "<table border=\"1\" class=\"dataframe\">\n",
       "  <thead>\n",
       "    <tr style=\"text-align: right;\">\n",
       "      <th></th>\n",
       "      <th>Test_1</th>\n",
       "      <th>Test_2</th>\n",
       "      <th>approval</th>\n",
       "    </tr>\n",
       "  </thead>\n",
       "  <tbody>\n",
       "    <tr>\n",
       "      <th>0</th>\n",
       "      <td>0.051267</td>\n",
       "      <td>0.69956</td>\n",
       "      <td>1</td>\n",
       "    </tr>\n",
       "    <tr>\n",
       "      <th>1</th>\n",
       "      <td>-0.092742</td>\n",
       "      <td>0.68494</td>\n",
       "      <td>1</td>\n",
       "    </tr>\n",
       "    <tr>\n",
       "      <th>2</th>\n",
       "      <td>-0.213710</td>\n",
       "      <td>0.69225</td>\n",
       "      <td>1</td>\n",
       "    </tr>\n",
       "    <tr>\n",
       "      <th>3</th>\n",
       "      <td>-0.375000</td>\n",
       "      <td>0.50219</td>\n",
       "      <td>1</td>\n",
       "    </tr>\n",
       "    <tr>\n",
       "      <th>4</th>\n",
       "      <td>-0.513250</td>\n",
       "      <td>0.46564</td>\n",
       "      <td>1</td>\n",
       "    </tr>\n",
       "  </tbody>\n",
       "</table>\n",
       "</div>"
      ],
      "text/plain": [
       "     Test_1   Test_2  approval\n",
       "0  0.051267  0.69956         1\n",
       "1 -0.092742  0.68494         1\n",
       "2 -0.213710  0.69225         1\n",
       "3 -0.375000  0.50219         1\n",
       "4 -0.513250  0.46564         1"
      ]
     },
     "execution_count": 17,
     "metadata": {},
     "output_type": "execute_result"
    }
   ],
   "source": [
    "data = pd.read_csv('ex2data2.txt', sep=\",\", names=['Test_1', 'Test_2', 'approval'])\n",
    "data.head()"
   ]
  },
  {
   "cell_type": "code",
   "execution_count": 18,
   "metadata": {},
   "outputs": [
    {
     "data": {
      "image/png": "[encoded data removed]",
      "text/plain": [
       "<Figure size 720x432 with 1 Axes>"
      ]
     },
     "metadata": {},
     "output_type": "display_data"
    }
   ],
   "source": [
    "pos = data[data['approval'] == 1][['Test_1', 'Test_2']]\n",
    "neg = data[data['approval'] == 0][['Test_1', 'Test_2']]\n",
    "\n",
    "plt.figure(figsize=(10,6))\n",
    "plt.plot(pos['Test_1'],pos['Test_2'],'k+',label='Approved')\n",
    "plt.plot(neg['Test_1'],neg['Test_2'],'yo',label='Not approved')\n",
    "plt.xlabel('Test 1 score')\n",
    "plt.ylabel('Test 2 score')\n",
    "plt.legend()\n",
    "plt.grid(True)"
   ]
  },
  {
   "cell_type": "markdown",
   "metadata": {},
   "source": [
    "As we see in the figure, the data are not linearly separable, so we will need to use a regularized logistic regression with more features. We will first create more features to contain the combinations of test_1^n * test_2^n for n from 0 to 6.\n",
    "\n",
    "After, we will test three values of lambda: 0 (C = 1e49), 1 (C = 1), and 100 (C = 0.01)."
   ]
  },
  {
   "cell_type": "code",
   "execution_count": 53,
   "metadata": {},
   "outputs": [
    {
     "ename": "SyntaxError",
     "evalue": "keyword can't be an expression (<ipython-input-53-f764f0e77a55>, line 5)",
     "output_type": "error",
     "traceback": [
      "\u001b[1;36m  File \u001b[1;32m\"<ipython-input-53-f764f0e77a55>\"\u001b[1;36m, line \u001b[1;32m5\u001b[0m\n\u001b[1;33m    c = pd.DataFrame('Test1'=a, 'Test2'=b)\u001b[0m\n\u001b[1;37m                    ^\u001b[0m\n\u001b[1;31mSyntaxError\u001b[0m\u001b[1;31m:\u001b[0m keyword can't be an expression\n"
     ]
    }
   ],
   "source": [
    "ex1 = np.linspace(-1, 1, 100)\n",
    "ex2 = np.linspace(-1, 1, 100)\n",
    "a = ex1[1]\n",
    "b = ex2[1]\n",
    "c = pd.DataFrame('Test1'=a, 'Test2'=b)\n",
    "#c = np.array([a,b]).reshape(1,-1)\n",
    "#lr2.predict(c)"
   ]
  },
  {
   "cell_type": "code",
   "execution_count": 50,
   "metadata": {},
   "outputs": [
    {
     "data": {
      "text/html": [
       "<div>\n",
       "<style scoped>\n",
       "    .dataframe tbody tr th:only-of-type {\n",
       "        vertical-align: middle;\n",
       "    }\n",
       "\n",
       "    .dataframe tbody tr th {\n",
       "        vertical-align: top;\n",
       "    }\n",
       "\n",
       "    .dataframe thead th {\n",
       "        text-align: right;\n",
       "    }\n",
       "</style>\n",
       "<table border=\"1\" class=\"dataframe\">\n",
       "  <thead>\n",
       "    <tr style=\"text-align: right;\">\n",
       "      <th></th>\n",
       "      <th>Test_1</th>\n",
       "      <th>Test_2</th>\n",
       "      <th>approval</th>\n",
       "      <th>0-0</th>\n",
       "      <th>0-1</th>\n",
       "      <th>0-2</th>\n",
       "      <th>0-3</th>\n",
       "      <th>0-4</th>\n",
       "      <th>0-5</th>\n",
       "      <th>0-6</th>\n",
       "      <th>...</th>\n",
       "      <th>5-4</th>\n",
       "      <th>5-5</th>\n",
       "      <th>5-6</th>\n",
       "      <th>6-0</th>\n",
       "      <th>6-1</th>\n",
       "      <th>6-2</th>\n",
       "      <th>6-3</th>\n",
       "      <th>6-4</th>\n",
       "      <th>6-5</th>\n",
       "      <th>6-6</th>\n",
       "    </tr>\n",
       "  </thead>\n",
       "  <tbody>\n",
       "    <tr>\n",
       "      <th>0</th>\n",
       "      <td>0.051267</td>\n",
       "      <td>0.69956</td>\n",
       "      <td>1</td>\n",
       "      <td>1.0</td>\n",
       "      <td>0.69956</td>\n",
       "      <td>0.489384</td>\n",
       "      <td>0.342354</td>\n",
       "      <td>0.239497</td>\n",
       "      <td>0.167542</td>\n",
       "      <td>0.117206</td>\n",
       "      <td>...</td>\n",
       "      <td>8.481827e-08</td>\n",
       "      <td>5.933547e-08</td>\n",
       "      <td>4.150872e-08</td>\n",
       "      <td>1.815630e-08</td>\n",
       "      <td>1.270142e-08</td>\n",
       "      <td>8.885408e-09</td>\n",
       "      <td>6.215876e-09</td>\n",
       "      <td>4.348378e-09</td>\n",
       "      <td>3.041951e-09</td>\n",
       "      <td>2.128028e-09</td>\n",
       "    </tr>\n",
       "    <tr>\n",
       "      <th>1</th>\n",
       "      <td>-0.092742</td>\n",
       "      <td>0.68494</td>\n",
       "      <td>1</td>\n",
       "      <td>1.0</td>\n",
       "      <td>0.68494</td>\n",
       "      <td>0.469143</td>\n",
       "      <td>0.321335</td>\n",
       "      <td>0.220095</td>\n",
       "      <td>0.150752</td>\n",
       "      <td>0.103256</td>\n",
       "      <td>...</td>\n",
       "      <td>-1.510054e-06</td>\n",
       "      <td>-1.034296e-06</td>\n",
       "      <td>-7.084308e-07</td>\n",
       "      <td>6.362953e-07</td>\n",
       "      <td>4.358241e-07</td>\n",
       "      <td>2.985134e-07</td>\n",
       "      <td>2.044638e-07</td>\n",
       "      <td>1.400454e-07</td>\n",
       "      <td>9.592270e-08</td>\n",
       "      <td>6.570129e-08</td>\n",
       "    </tr>\n",
       "    <tr>\n",
       "      <th>2</th>\n",
       "      <td>-0.213710</td>\n",
       "      <td>0.69225</td>\n",
       "      <td>1</td>\n",
       "      <td>1.0</td>\n",
       "      <td>0.69225</td>\n",
       "      <td>0.479210</td>\n",
       "      <td>0.331733</td>\n",
       "      <td>0.229642</td>\n",
       "      <td>0.158970</td>\n",
       "      <td>0.110047</td>\n",
       "      <td>...</td>\n",
       "      <td>-1.023708e-04</td>\n",
       "      <td>-7.086618e-05</td>\n",
       "      <td>-4.905712e-05</td>\n",
       "      <td>9.526844e-05</td>\n",
       "      <td>6.594958e-05</td>\n",
       "      <td>4.565360e-05</td>\n",
       "      <td>3.160370e-05</td>\n",
       "      <td>2.187766e-05</td>\n",
       "      <td>1.514481e-05</td>\n",
       "      <td>1.048400e-05</td>\n",
       "    </tr>\n",
       "    <tr>\n",
       "      <th>3</th>\n",
       "      <td>-0.375000</td>\n",
       "      <td>0.50219</td>\n",
       "      <td>1</td>\n",
       "      <td>1.0</td>\n",
       "      <td>0.50219</td>\n",
       "      <td>0.252195</td>\n",
       "      <td>0.126650</td>\n",
       "      <td>0.063602</td>\n",
       "      <td>0.031940</td>\n",
       "      <td>0.016040</td>\n",
       "      <td>...</td>\n",
       "      <td>-4.716595e-04</td>\n",
       "      <td>-2.368627e-04</td>\n",
       "      <td>-1.189501e-04</td>\n",
       "      <td>2.780914e-03</td>\n",
       "      <td>1.396547e-03</td>\n",
       "      <td>7.013321e-04</td>\n",
       "      <td>3.522020e-04</td>\n",
       "      <td>1.768723e-04</td>\n",
       "      <td>8.882351e-05</td>\n",
       "      <td>4.460628e-05</td>\n",
       "    </tr>\n",
       "    <tr>\n",
       "      <th>4</th>\n",
       "      <td>-0.513250</td>\n",
       "      <td>0.46564</td>\n",
       "      <td>1</td>\n",
       "      <td>1.0</td>\n",
       "      <td>0.46564</td>\n",
       "      <td>0.216821</td>\n",
       "      <td>0.100960</td>\n",
       "      <td>0.047011</td>\n",
       "      <td>0.021890</td>\n",
       "      <td>0.010193</td>\n",
       "      <td>...</td>\n",
       "      <td>-1.674349e-03</td>\n",
       "      <td>-7.796437e-04</td>\n",
       "      <td>-3.630333e-04</td>\n",
       "      <td>1.827990e-02</td>\n",
       "      <td>8.511851e-03</td>\n",
       "      <td>3.963458e-03</td>\n",
       "      <td>1.845545e-03</td>\n",
       "      <td>8.593595e-04</td>\n",
       "      <td>4.001521e-04</td>\n",
       "      <td>1.863268e-04</td>\n",
       "    </tr>\n",
       "  </tbody>\n",
       "</table>\n",
       "<p>5 rows × 52 columns</p>\n",
       "</div>"
      ],
      "text/plain": [
       "     Test_1   Test_2  approval  0-0      0-1       0-2       0-3       0-4  \\\n",
       "0  0.051267  0.69956         1  1.0  0.69956  0.489384  0.342354  0.239497   \n",
       "1 -0.092742  0.68494         1  1.0  0.68494  0.469143  0.321335  0.220095   \n",
       "2 -0.213710  0.69225         1  1.0  0.69225  0.479210  0.331733  0.229642   \n",
       "3 -0.375000  0.50219         1  1.0  0.50219  0.252195  0.126650  0.063602   \n",
       "4 -0.513250  0.46564         1  1.0  0.46564  0.216821  0.100960  0.047011   \n",
       "\n",
       "        0-5       0-6      ...                5-4           5-5           5-6  \\\n",
       "0  0.167542  0.117206      ...       8.481827e-08  5.933547e-08  4.150872e-08   \n",
       "1  0.150752  0.103256      ...      -1.510054e-06 -1.034296e-06 -7.084308e-07   \n",
       "2  0.158970  0.110047      ...      -1.023708e-04 -7.086618e-05 -4.905712e-05   \n",
       "3  0.031940  0.016040      ...      -4.716595e-04 -2.368627e-04 -1.189501e-04   \n",
       "4  0.021890  0.010193      ...      -1.674349e-03 -7.796437e-04 -3.630333e-04   \n",
       "\n",
       "            6-0           6-1           6-2           6-3           6-4  \\\n",
       "0  1.815630e-08  1.270142e-08  8.885408e-09  6.215876e-09  4.348378e-09   \n",
       "1  6.362953e-07  4.358241e-07  2.985134e-07  2.044638e-07  1.400454e-07   \n",
       "2  9.526844e-05  6.594958e-05  4.565360e-05  3.160370e-05  2.187766e-05   \n",
       "3  2.780914e-03  1.396547e-03  7.013321e-04  3.522020e-04  1.768723e-04   \n",
       "4  1.827990e-02  8.511851e-03  3.963458e-03  1.845545e-03  8.593595e-04   \n",
       "\n",
       "            6-5           6-6  \n",
       "0  3.041951e-09  2.128028e-09  \n",
       "1  9.592270e-08  6.570129e-08  \n",
       "2  1.514481e-05  1.048400e-05  \n",
       "3  8.882351e-05  4.460628e-05  \n",
       "4  4.001521e-04  1.863268e-04  \n",
       "\n",
       "[5 rows x 52 columns]"
      ]
     },
     "execution_count": 50,
     "metadata": {},
     "output_type": "execute_result"
    }
   ],
   "source": [
    "def create_features(df):\n",
    "    for i in range(0,7):\n",
    "        for j in range(0,7):\n",
    "            name = str(i) + '-' + str(j)\n",
    "            df[name] = (df['Test_1'] ** i) * (df['Test_2'] ** j)\n",
    "    return df\n",
    "\n",
    "data = create_features(data)  \n",
    "data.head()"
   ]
  },
  {
   "cell_type": "code",
   "execution_count": 22,
   "metadata": {},
   "outputs": [],
   "source": [
    "data.columns\n",
    "columns = ['0-0', '0-1', '0-2', '0-3', '0-4', '0-5', '0-6', '1-0', '1-1', '1-2', '1-3', '1-4', '1-5', '1-6', '2-0',\n",
    "           '2-1', '2-2', '2-3', '2-4', '2-5', '2-6', '3-0', '3-1', '3-2', '3-3', '3-4', '3-5', '3-6', '4-0', '4-1', '4-2', \n",
    "           '4-3', '4-4', '4-5', '4-6','5-0', '5-1', '5-2', '5-3', '5-4', '5-5', '5-6', '6-0', '6-1', '6-2', '6-3', '6-4', \n",
    "           '6-5', '6-6']\n",
    "\n",
    "x = np.array(data[columns])\n",
    "y = np.array(data[['approval']])\n",
    "y = np.squeeze(y)"
   ]
  },
  {
   "cell_type": "code",
   "execution_count": null,
   "metadata": {},
   "outputs": [],
   "source": [
    "import numpy as np\n",
    "from sklearn.linear_model import LogisticRegression as expit\n",
    "\n",
    "def thetaFunc(y, theta, x):\n",
    "\n",
    "    deg = 6\n",
    "\n",
    "    spot = 0\n",
    "    sum = theta[spot]\n",
    "\n",
    "    spot += 1\n",
    "    for i in range(1, deg + 1):\n",
    "        for j in range(i + 1):\n",
    "            sum += theta[spot] * x**(i - j) * y**(j)\n",
    "            spot += 1\n",
    "    return np.exp(-sum)\n",
    "\n",
    "\n",
    "def constructVariations(X, deg):\n",
    "\n",
    "    features = np.zeros((len(X), 27)) \n",
    "    spot = 0\n",
    "\n",
    "    for i in range(1, deg + 1):\n",
    "        for j in range(i + 1):\n",
    "\n",
    "            features[:, spot] = X[:,0]**(i - j) * X[:,1]**(j)\n",
    "            spot += 1\n",
    "\n",
    "    return features\n",
    "\n",
    "if __name__ == '__main__':\n",
    "    data = np.loadtxt(\"ex2points.txt\", delimiter = \",\")\n",
    "    X,Y = np.split(data, [len(data[0,:]) - 1], 1)\n",
    "\n",
    "    X = constructVariations(X, 6)\n",
    "    rawX = np.copy(X)\n",
    "\n",
    "    oneArray = np.ones((len(X),1))\n",
    "    X = np.hstack((oneArray, X))\n",
    "    trial = expit(solver = 'sag')\n",
    "    trial = trial.fit(X = X,y = np.ravel(Y))\n",
    "\n",
    "    from matplotlib import pyplot as plt\n",
    "\n",
    "    theta = trial.coef_.ravel()\n",
    "\n",
    "    x = np.linspace(-1, 1.5, 100)\n",
    "    y = np.linspace(-1,1.5,100)\n",
    "    z = np.empty((100,100))\n",
    "\n",
    "\n",
    "    xx,yy = np.meshgrid(x,y)\n",
    "    for i in range(len(x)):\n",
    "         for j in range(len(y)):\n",
    "             z[i][j] = thetaFunc(yy[i][j], theta, xx[i][j])\n",
    "    z -= trial.intercept_\n",
    "\n",
    "    plt.contour(xx,yy,z > 1,cmap=plt.cm.Paired, alpha=0.8)\n",
    "    plt.scatter(rawX[:, 0], rawX[:, 1], c=Y, linewidth=0, s=50)\n",
    "    plt.show()"
   ]
  },
  {
   "cell_type": "code",
   "execution_count": 37,
   "metadata": {},
   "outputs": [
    {
     "data": {
      "text/plain": [
       "array([[1, 1, 1, ..., 1, 1, 1],\n",
       "       [1, 1, 1, ..., 1, 1, 1],\n",
       "       [1, 1, 1, ..., 1, 1, 1],\n",
       "       ...,\n",
       "       [0, 0, 0, ..., 0, 0, 0],\n",
       "       [0, 0, 0, ..., 0, 0, 0],\n",
       "       [0, 0, 0, ..., 0, 0, 0]], dtype=int64)"
      ]
     },
     "execution_count": 37,
     "metadata": {},
     "output_type": "execute_result"
    }
   ],
   "source": [
    "xx,yy = np.meshgrid(x, y)\n",
    "xx1 = np.linspace(-1, 1, 100)\n",
    "xx2 = np.linspace(-1,1,100)\n",
    "z = np.empty((100,100))"
   ]
  },
  {
   "cell_type": "code",
   "execution_count": 28,
   "metadata": {},
   "outputs": [
    {
     "name": "stdout",
     "output_type": "stream",
     "text": [
      "With a c value of 1, the prediction accuracy is 83.05 %\n"
     ]
    }
   ],
   "source": [
    "c = 1\n",
    "lr2 = LogisticRegression(C=c)\n",
    "lr2.fit(x, y)\n",
    "\n",
    "print('With a c value of {}, the prediction accuracy is {} %'.format(c, round(lr2.score(x,y) * 100,2)))"
   ]
  },
  {
   "cell_type": "code",
   "execution_count": 29,
   "metadata": {},
   "outputs": [
    {
     "name": "stdout",
     "output_type": "stream",
     "text": [
      "With a c value of 1e+49, the prediction accuracy is 94.07 %\n"
     ]
    }
   ],
   "source": [
    "c = 1e49\n",
    "\n",
    "lr2 = LogisticRegression(C=c)\n",
    "lr2.fit(x, y)\n",
    "\n",
    "print('With a c value of {}, the prediction accuracy is {} %'.format(c, round(lr2.score(x,y) * 100,2)))"
   ]
  },
  {
   "cell_type": "code",
   "execution_count": 30,
   "metadata": {},
   "outputs": [
    {
     "name": "stdout",
     "output_type": "stream",
     "text": [
      "With a c value of 0.01, the prediction accuracy is 61.02 %\n"
     ]
    }
   ],
   "source": [
    "c = 0.01\n",
    "\n",
    "lr2 = LogisticRegression(C=c)\n",
    "lr2.fit(x, y)\n",
    "\n",
    "print('With a c value of {}, the prediction accuracy is {} %'.format(c, round(lr2.score(x,y) * 100,2)))"
   ]
  },
  {
   "cell_type": "markdown",
   "metadata": {},
   "source": [
    "It's missing the last part where we will draw contour plots for each value of c/lambda (reference: https://stackoverflow.com/questions/37767759/not-getting-correct-contour-plot-of-coefficients-from-my-logistic-regression-imp)"
   ]
  }
 ],
 "metadata": {
  "kernelspec": {
   "display_name": "Python 3",
   "language": "python",
   "name": "python3"
  },
  "language_info": {
   "codemirror_mode": {
    "name": "ipython",
    "version": 3
   },
   "file_extension": ".py",
   "mimetype": "text/x-python",
   "name": "python",
   "nbconvert_exporter": "python",
   "pygments_lexer": "ipython3",
   "version": "3.6.5"
  }
 },
 "nbformat": 4,
 "nbformat_minor": 2
}
